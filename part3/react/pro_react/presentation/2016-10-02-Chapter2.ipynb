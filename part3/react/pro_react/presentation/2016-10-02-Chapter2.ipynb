{
 "cells": [
  {
   "cell_type": "markdown",
   "metadata": {},
   "source": [
    "## 소스 코드 다운로드\n",
    "http://wikibook.co.kr/pro-react/\n",
    "\n",
    "### 예제 코드 깃허브 페이지\n",
    "\n",
    "https://github.com/pro-react/\n",
    "\n",
    "### 칸반 앱 예제 코드 다운로드\n",
    "\n",
    "셸에서 다음 명령어를 실행합니다.\n",
    "<pre>\n",
    "$ git clone https://github.com/pro-react/kanban-app.git\n",
    "$ cd kanban-app\n",
    "$ git fetch --all\n",
    "$ git checkout chapter1\n",
    "</pre>\n",
    "\n",
    "### Node.js 설치\n",
    "\n",
    "https://nodejs.org/en/"
   ]
  },
  {
   "cell_type": "markdown",
   "metadata": {},
   "source": [
    "Kanban React.js App - Chapter 1\n",
    "=================================\n",
    "\n",
    "Kanban-style project management tool built throughout the Pro React book. End of chapter 1.\n",
    "\n",
    "### Summary\n",
    "\n",
    "Implemented the basic structure of the project. All data is hard-coded and React warns about missing `key` props (which are implemented in chapter 2).\n",
    "\n",
    "![end_of_chapter1](https://cloud.githubusercontent.com/assets/33676/10971478/9db2d9d2-83bb-11e5-8603-5a19b21376a8.png)\n",
    "\n",
    "\n",
    "### How the repository is organized\n",
    "\n",
    "You are in the Chapter 1 Branch.\n",
    "\n",
    "The repository is organized in branches: Each branch corresponds to the end of a specific chapter. The master branch contains the final source code.\n",
    "\n",
    "After cloning and fetching all of the remote branches, you can switch branches using `git checkout`, for example:\n",
    "\n",
    "```\n",
    "git clone git@github.com:pro-react/kanban-app.git\n",
    "git fetch --all\n",
    "git checkout chapter1\n",
    "```\n",
    "\n",
    "### Usage\n",
    "\n",
    "**Install**\n",
    "```\n",
    "npm install\n",
    "```\n",
    "\n",
    "**Start the application**\n",
    "```\n",
    "npm start\n",
    "```\n",
    "\n",
    "Open http://localhost:8080 in your browser.\n"
   ]
  },
  {
   "cell_type": "markdown",
   "metadata": {},
   "source": [
    "<code>git checkout chapter2\n",
    "\n",
    "npm start\n",
    "</code>\n",
    "\n",
    "<pre>\n",
    "-- 실행 시 에러  발생\n",
    "ERROR in ./app/Card.js\n",
    "Module not found: Error: Cannot resolve module 'marked' in D:\\python\\Group\\LasyApps\\pro-react\\kanban-app\\app\n",
    " @ ./app/Card.js 17:14-31\n",
    "webpack: bundle is now VALID.\n",
    "</pre>\n",
    "\n",
    "<code>npm install --save marked</code><br/>\n",
    "cf) 교재 p47"
   ]
  },
  {
   "cell_type": "markdown",
   "metadata": {},
   "source": [
    "## New React Developer Tools\n",
    "\n",
    "https://facebook.github.io/react/blog/2015/09/02/new-react-developer-tools.html\n",
    "\n",
    "It contains a handful of new features, including:\n",
    "\n",
    "* Built entirely with React, making it easier to develop and extend\n",
    "* Firefox support\n",
    "* Selected component instance is available as \\$r from the console\n",
    "* More detail is shown in props in the component tree\n",
    "* Right-click any node and choose \"Show Source\" to jump to the render method in the Sources panel\n",
    "* Right-click any props or state value to make it available as $tmp from the console\n",
    "* Full React Native support\n",
    "\n",
    "\n",
    "### Installation\n",
    "Download the new devtools from the Chrome Web Store and on Mozilla Add-ons for Firefox. If you're developing using React, we highly recommend installing these devtools.\n",
    "\n",
    "If you already have the Chrome extension installed, it should autoupdate within the next week. You can also head to ```chrome://extensions``` and click \"Update extensions now\" if you'd like to get the new version today. If you installed the devtools beta, please remove it and switch back to the version from the store to make sure you always get the latest updates and bug fixes.\n",
    "\n",
    "If you run into any issues, please post them on our react-devtools GitHub repo.\n",
    "\n"
   ]
  },
  {
   "cell_type": "markdown",
   "metadata": {},
   "source": [
    "### REACT.JS – 가상DOM 및 JSX(VIRTUAL DOM & JSX)\n",
    "http://avilos.codes/web/javascript/react-js/react-js-virtual-dom-and-jsx/\n"
   ]
  },
  {
   "cell_type": "markdown",
   "metadata": {},
   "source": [
    "[실습]\n",
    "Search 컴포넌트 만들어보기 (p56~p57)"
   ]
  },
  {
   "cell_type": "markdown",
   "metadata": {},
   "source": [
    "Kanban React.js App - Chapter 2\n",
    "=================================\n",
    "\n",
    "Kanban-style project management tool built throughout the Pro React book. End of chapter 2.\n",
    "\n",
    "### Summary\n",
    "\n",
    "The chapter got deeper into JSX. Implemented inline conditional styles, used dangerouslySetInnerHTML to implement markdown on card description, added new task field and the required `key` props.\n",
    "\n",
    "![Chapter 2 Screen Shot](https://cloud.githubusercontent.com/assets/33676/10972879/4503297a-83c2-11e5-8e2e-2c9bdd65735e.png)\n",
    "\n",
    "### How the repository is organized\n",
    "\n",
    "You are in the Chapter 2 Branch.\n",
    "\n",
    "The repository is organized in branches: Each branch corresponds to the end of a specific chapter. The master branch contains the final source code.\n",
    "\n",
    "After cloning and fetching all of the remote branches, you can switch branches using `git checkout`, for example:\n",
    "\n",
    "```\n",
    "git clone git@github.com:pro-react/kanban-app.git\n",
    "git fetch\n",
    "git checkout chapter2\n",
    "```\n",
    "\n",
    "### Usage\n",
    "\n",
    "**Install**\n",
    "```\n",
    "npm install\n",
    "```\n",
    "\n",
    "**Start the application**\n",
    "```\n",
    "npm start\n",
    "```\n",
    "\n",
    "Open http://localhost:8080 in your browser.\n"
   ]
  },
  {
   "cell_type": "code",
   "execution_count": null,
   "metadata": {
    "collapsed": true
   },
   "outputs": [],
   "source": []
  }
 ],
 "metadata": {
  "anaconda-cloud": {},
  "kernelspec": {
   "display_name": "Python [python3]",
   "language": "python",
   "name": "Python [python3]"
  },
  "language_info": {
   "codemirror_mode": {
    "name": "ipython",
    "version": 3
   },
   "file_extension": ".py",
   "mimetype": "text/x-python",
   "name": "python",
   "nbconvert_exporter": "python",
   "pygments_lexer": "ipython3",
   "version": "3.5.2"
  }
 },
 "nbformat": 4,
 "nbformat_minor": 0
}
