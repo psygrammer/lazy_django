{
 "cells": [
  {
   "cell_type": "markdown",
   "metadata": {},
   "source": [
    "# 1장: 시작하기"
   ]
  },
  {
   "cell_type": "markdown",
   "metadata": {
    "collapsed": true
   },
   "source": [
    "# 차례 \n",
    "* 시작하기 전에\n",
    "    - Node.js와 npm\n",
    "    - 자바스크립트 ES6\n",
    "* 리액트의 정의\n",
    "* 리액트의 장점\n",
    "    - 편리한 반응형 렌더링\n",
    "    - 순수 자바스크립트를 이용한 컴포넌트 기반 개발\n",
    "    - 문서 모델의 유연한 추상화\n",
    "* 첫 번째 리액트 앱 작성\n",
    "    - 리액트 개발 워크플로\n",
    "    - 첫 번째 컴포넌트 만들기\n",
    "    - 타이핑 수고를 약간 줄이는 방법\n",
    "    - 동적 값\n",
    "* 컴포넌트 조합하기\n",
    "    - 속성\n",
    "    - 칸반 보드 앱 소개\n",
    "    - 컴포넌트 계층 정의\n",
    "    - 속성의 중요성\n",
    "    - 컴포넌트 만들기\n",
    "    - 앱 모듈(App.js)\n",
    "* 상태 소개\n",
    "    - 칸반 앱: 토글되는 카드\n",
    "* 정리"
   ]
  },
  {
   "cell_type": "markdown",
   "metadata": {},
   "source": [
    "# 시작하기 전에\n",
    "* Node.js와 npm\n",
    "* 자바스크립트 ES6"
   ]
  },
  {
   "cell_type": "markdown",
   "metadata": {},
   "source": [
    "## Node.js와 npm"
   ]
  },
  {
   "cell_type": "markdown",
   "metadata": {},
   "source": [
    "## 자바스크립트 ES6"
   ]
  },
  {
   "cell_type": "markdown",
   "metadata": {},
   "source": [
    "# 리액트의 정의"
   ]
  },
  {
   "cell_type": "markdown",
   "metadata": {},
   "source": [
    "# 리액트의 장점\n",
    "* 편리한 반응형 렌더링\n",
    "* 순수 자바스크립트를 이용한 컴포넌트 기반 개발\n",
    "* 문서 모델의 유연한 추상화"
   ]
  },
  {
   "cell_type": "markdown",
   "metadata": {},
   "source": [
    "## 편리한 반응형 렌더링"
   ]
  },
  {
   "cell_type": "markdown",
   "metadata": {},
   "source": [
    "## 순수 자바스크립트를 이용한 컴포넌트 기반 개발"
   ]
  },
  {
   "cell_type": "markdown",
   "metadata": {},
   "source": [
    "## 문서 모델의 유연한 추상화"
   ]
  },
  {
   "cell_type": "markdown",
   "metadata": {},
   "source": [
    "# 첫 번째 리액트 앱 작성\n",
    "* 리액트 개발 워크플로\n",
    "* 첫 번째 컴포넌트 만들기\n",
    "* 타이핑 수고를 약간 줄이는 방법\n",
    "* 동적 값"
   ]
  },
  {
   "cell_type": "markdown",
   "metadata": {},
   "source": [
    "## 리액트 개발 워크플로"
   ]
  },
  {
   "cell_type": "markdown",
   "metadata": {},
   "source": [
    "## 첫 번째 컴포넌트 만들기"
   ]
  },
  {
   "cell_type": "markdown",
   "metadata": {},
   "source": [
    "## 타이핑 수고를 약간 줄이는 방법"
   ]
  },
  {
   "cell_type": "markdown",
   "metadata": {},
   "source": [
    "## 동적 값"
   ]
  },
  {
   "cell_type": "markdown",
   "metadata": {},
   "source": [
    "# 컴포넌트 조합하기\n",
    "* 속성\n",
    "* 칸반 보드 앱 소개\n",
    "* 컴포넌트 계층 정의\n",
    "* 속성의 중요성\n",
    "* 컴포넌트 만들기\n",
    "* 앱 모듈(App.js)"
   ]
  },
  {
   "cell_type": "markdown",
   "metadata": {},
   "source": [
    "## 속성"
   ]
  },
  {
   "cell_type": "markdown",
   "metadata": {},
   "source": [
    "## 칸반 보드 앱 소개"
   ]
  },
  {
   "cell_type": "markdown",
   "metadata": {},
   "source": [
    "## 컴포넌트 계층 정의"
   ]
  },
  {
   "cell_type": "markdown",
   "metadata": {},
   "source": [
    "## 속성의 중요성"
   ]
  },
  {
   "cell_type": "markdown",
   "metadata": {},
   "source": [
    "## 컴포넌트 만들기"
   ]
  },
  {
   "cell_type": "markdown",
   "metadata": {},
   "source": [
    "## 앱 모듈(App.js)"
   ]
  },
  {
   "cell_type": "markdown",
   "metadata": {},
   "source": [
    "# 상태 소개\n",
    "* 칸반 앱: 토글되는 카드"
   ]
  },
  {
   "cell_type": "markdown",
   "metadata": {},
   "source": [
    "## 칸반 앱: 토글되는 카드"
   ]
  },
  {
   "cell_type": "markdown",
   "metadata": {},
   "source": [
    "# 정리"
   ]
  },
  {
   "cell_type": "markdown",
   "metadata": {},
   "source": [
    "# 참고\n",
    "* [1] \n",
    "* [2] 코드 - https://github.com/pro-react/\n",
    "* [3] 현재 예제 코드"
   ]
  }
 ],
 "metadata": {
  "kernelspec": {
   "display_name": "Python 2",
   "language": "python",
   "name": "python2"
  },
  "language_info": {
   "codemirror_mode": {
    "name": "ipython",
    "version": 2
   },
   "file_extension": ".py",
   "mimetype": "text/x-python",
   "name": "python",
   "nbconvert_exporter": "python",
   "pygments_lexer": "ipython2",
   "version": "2.7.6"
  }
 },
 "nbformat": 4,
 "nbformat_minor": 0
}
