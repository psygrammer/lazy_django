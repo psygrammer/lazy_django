{
 "cells": [
  {
   "cell_type": "markdown",
   "metadata": {},
   "source": [
    "# (React.js를 이용한 모던 프런트엔드 구축) \n",
    "# 1장: 시작하기"
   ]
  },
  {
   "cell_type": "markdown",
   "metadata": {},
   "source": [
    "* 싸이그래머 / 레이지앱스 : 파트 3 - React.js [1]\n",
    "* 김무성"
   ]
  },
  {
   "cell_type": "markdown",
   "metadata": {},
   "source": [
    "#### 참고\n",
    "* [2] 프로 리액트 관련 코드들 - https://github.com/pro-react/\n",
    "* [3] 예제 코드들 - https://github.com/pro-react/sample-code\n",
    "* [4] 현재 예제 코드 - https://github.com/pro-react/sample-code/tree/master/chapter%201"
   ]
  },
  {
   "cell_type": "markdown",
   "metadata": {
    "collapsed": true
   },
   "source": [
    "# 차례 \n",
    "* 시작하기 전에\n",
    "    - Node.js와 npm\n",
    "    - 자바스크립트 ES6\n",
    "* 리액트의 정의\n",
    "* 리액트의 장점\n",
    "    - 편리한 반응형 렌더링\n",
    "    - 순수 자바스크립트를 이용한 컴포넌트 기반 개발\n",
    "    - 문서 모델의 유연한 추상화\n",
    "* 첫 번째 리액트 앱 작성\n",
    "    - 리액트 개발 워크플로\n",
    "    - 첫 번째 컴포넌트 만들기\n",
    "    - 타이핑 수고를 약간 줄이는 방법\n",
    "    - 동적 값\n",
    "* 컴포넌트 조합하기\n",
    "    - 속성\n",
    "    - 칸반 보드 앱 소개\n",
    "    - 컴포넌트 계층 정의\n",
    "    - 속성의 중요성\n",
    "    - 컴포넌트 만들기\n",
    "    - 앱 모듈(App.js)\n",
    "* 상태 소개\n",
    "    - 칸반 앱: 토글되는 카드\n",
    "* 정리"
   ]
  },
  {
   "cell_type": "markdown",
   "metadata": {},
   "source": [
    "# 시작하기 전에\n",
    "* Node.js와 npm\n",
    "* 자바스크립트 ES6"
   ]
  },
  {
   "cell_type": "markdown",
   "metadata": {},
   "source": [
    "## Node.js와 npm"
   ]
  },
  {
   "cell_type": "markdown",
   "metadata": {},
   "source": [
    "## 자바스크립트 ES6"
   ]
  },
  {
   "cell_type": "markdown",
   "metadata": {},
   "source": [
    "# 리액트의 정의"
   ]
  },
  {
   "cell_type": "markdown",
   "metadata": {},
   "source": [
    "리엑트의 정의는 다음과 같다(프로리엑트 저자의 정의) \n",
    "* 리엑트는 엔진이다.\n",
    "* 조합형 사용자 인터페이스를 구축한다.\n",
    "* 자바스크립트와 (필요에 따라) XML을 이용한다."
   ]
  },
  {
   "cell_type": "markdown",
   "metadata": {},
   "source": [
    "# 리액트의 장점\n",
    "* 편리한 반응형 렌더링\n",
    "* 순수 자바스크립트를 이용한 컴포넌트 기반 개발\n",
    "* 문서 모델의 유연한 추상화"
   ]
  },
  {
   "cell_type": "markdown",
   "metadata": {},
   "source": [
    "## 편리한 반응형 렌더링"
   ]
  },
  {
   "cell_type": "markdown",
   "metadata": {},
   "source": [
    "다음과 같은 점이 좋다.\n",
    "* 반응형 렌더링\n",
    "* 가상 DOM"
   ]
  },
  {
   "cell_type": "markdown",
   "metadata": {},
   "source": [
    "## 순수 자바스크립트를 이용한 컴포넌트 기반 개발"
   ]
  },
  {
   "cell_type": "markdown",
   "metadata": {},
   "source": [
    "다음과 같은 점이 좋다.\n",
    "* 컴포넌트 기반 - 분할 정복 방식 적용 가능\n",
    "* 자바스크립트만으로 작성\n",
    "* 관심사의 분리 \n",
    "* 캡슐화 - 컴포턴트에 표시 논리와 마크업을 서로 연결해서 컴포넌트로 묶어서 한번에 렌더링, 다른 컴포넌트와 독립적"
   ]
  },
  {
   "cell_type": "markdown",
   "metadata": {},
   "source": [
    "## 문서 모델의 유연한 추상화"
   ]
  },
  {
   "cell_type": "markdown",
   "metadata": {},
   "source": [
    "다음과 같은 점이 좋다.\n",
    "* 이벤트가 모든 브라우저와 장치에서 자동으로 위임을 이용해 일관되고 표준을 준수하는 방식으로 작동한다.\n",
    "* 리액트 컴포넌트를 서버에서 렌더링해 SEO와 체감 성능을 개선할 수 있다."
   ]
  },
  {
   "cell_type": "markdown",
   "metadata": {},
   "source": [
    "# 첫 번째 리액트 앱 작성\n",
    "* 리액트 개발 워크플로\n",
    "* 첫 번째 컴포넌트 만들기\n",
    "* 타이핑 수고를 약간 줄이는 방법\n",
    "* 동적 값"
   ]
  },
  {
   "cell_type": "markdown",
   "metadata": {},
   "source": [
    "#### 기본적인 리액트 컴포넌트"
   ]
  },
  {
   "cell_type": "code",
   "execution_count": null,
   "metadata": {
    "collapsed": true
   },
   "outputs": [],
   "source": [
    "class Hello extends React.Component {\n",
    "  render() {\n",
    "    return (\n",
    "      <h1>Hello Workd</hl>\n",
    "    )\n",
    "  }\n",
    "}"
   ]
  },
  {
   "cell_type": "markdown",
   "metadata": {},
   "source": [
    "* 참고 : JSX라는 자바스크립트 구문 확장을 이용한다(필수는 아님). 2장에서 다룬다."
   ]
  },
  {
   "cell_type": "markdown",
   "metadata": {},
   "source": [
    "## 리액트 개발 워크플로\n",
    "* 빠르게 시작하기\n",
    "* 또는 직접 해보기"
   ]
  },
  {
   "cell_type": "markdown",
   "metadata": {},
   "source": [
    "#### 가장 기본적인 시나리오"
   ]
  },
  {
   "cell_type": "markdown",
   "metadata": {},
   "source": [
    "* JSX를 작성하고 즉석에서 일반 자바스크립트로 변환\n",
    "* 코드를 모듈 패턴으로 작성\n",
    "* 의존성 관리\n",
    "* 자바스크립트 파일을 번들로 만들고 디버깅을 위해 소스 맵을 이용"
   ]
  },
  {
   "cell_type": "markdown",
   "metadata": {},
   "source": [
    "#### 리엑트 기본 프로젝트 구조"
   ]
  },
  {
   "cell_type": "markdown",
   "metadata": {},
   "source": [
    "1. 모든 자바스크립트 모듈을 포함하는 소스 폴더\n",
    "2. index.html 파일\n",
    "3. package.json 파일\n",
    "4. 모듈 패키저 또는 빌드 도구\n",
    "    - JSX 변환과 모듈/의존성 번들 작업에 이용\n",
    "    - 리액트 커뮤니티에서는 웹팩(webpack)을 사용하는 것을 선호."
   ]
  },
  {
   "cell_type": "markdown",
   "metadata": {},
   "source": [
    "<img src=\"figures/cap1.1.jpg\" width=400 />"
   ]
  },
  {
   "cell_type": "markdown",
   "metadata": {},
   "source": [
    "### 빠르기 시작하기"
   ]
  },
  {
   "cell_type": "markdown",
   "metadata": {},
   "source": [
    "* [4] 현재 예제 코드 - https://github.com/pro-react/sample-code/tree/master/chapter%201"
   ]
  },
  {
   "cell_type": "markdown",
   "metadata": {},
   "source": [
    "### 또는 직접 해보기"
   ]
  },
  {
   "cell_type": "markdown",
   "metadata": {},
   "source": [
    "직접 해보는 것을 선호한다면 5단계로 기본 프로젝트 구조를 직접 만들 수 있다. \n",
    "1. 가장 먼저 소스 폴더(일반적인 이름은 source 또는 app)를 만든다.\n",
    "    - 자바스크립트 모듈만 포함\n",
    "    - 모듈 번들러로 처리되지 않는 정적 애셋(예:index.html, 이미지 파일, css 파일 등)은 루트 폴더에 저장\n",
    "2. 프로젝트의 루트 폴더에 예제 1-1과 같은 내용의 index.html 파일을 만든다.\n",
    "3. 터미널이나 명령 프롬프트에서 npm init 명령 실행 -> package.json 파일을 만든다(의존성 관리) -> npm install을 실행한다.\n",
    "4. 모듈 번들러인 웹팩을 구성한다.\n",
    "5. 프로젝트 구조 완성. 브라우저에서 테스트하기 위해 로컬 서버 시작."
   ]
  },
  {
   "cell_type": "markdown",
   "metadata": {},
   "source": [
    "#### 예제 1-1. 번들된 자바스크립트를 로드하고 리액트 컴포넌트를 렌더링할 루트 div를 제공하는 간단한 HTML 페이지."
   ]
  },
  {
   "cell_type": "code",
   "execution_count": null,
   "metadata": {
    "collapsed": true
   },
   "outputs": [],
   "source": [
    "<!DOCTYPE html>\n",
    "<html>\n",
    "  <head>\n",
    "    <title>First React Component</title>\n",
    "    <link rel=\"stylesheet\" href=\"styles.css\">\n",
    "  </head>\n",
    "  <body>\n",
    "    <div id='root'></div>\n",
    "    <script type=\"text/javascript\" src=\"bundle.js\"></script>\n",
    "  </body>\n",
    "</html>"
   ]
  },
  {
   "cell_type": "markdown",
   "metadata": {},
   "source": [
    "#### 예제 1-2. package.json에 포함된 의존성"
   ]
  },
  {
   "cell_type": "code",
   "execution_count": null,
   "metadata": {
    "collapsed": true
   },
   "outputs": [],
   "source": [
    "{\n",
    "  \"name\": \"your-app-name\",\n",
    "  \"version\": \"X.X.X\",\n",
    "  \"description\": \"Your app description\",\n",
    "  \"author\": \"You\",\n",
    "  \"devDependencies\": {\n",
    "    \"babel-core\": \"~5.8.*\",\n",
    "    \"babel-loader\": \"^5.3.*\",\n",
    "    \"webpack\": \"^1.12.*\",\n",
    "    \"webpack-dev-server\": \"^1.10.*\"\n",
    "  },\n",
    "  \"dependencies\": {\n",
    "    \"react\": \"^13.*\"\n",
    "  }\n",
    "}"
   ]
  },
  {
   "cell_type": "markdown",
   "metadata": {},
   "source": [
    "#### 예제 1.3. webpack.config.js 파일"
   ]
  },
  {
   "cell_type": "markdown",
   "metadata": {},
   "source": [
    "* 책의 예제와 너무 달라서, 저자 깃헙 소스코드를 바로 연결함.\n",
    "* https://github.com/pro-react/sample-code/blob/master/chapter%201/groceryList/webpack.config.js"
   ]
  },
  {
   "cell_type": "markdown",
   "metadata": {},
   "source": [
    "#### 예제 1-4. package.json에 start 스크립트 추가"
   ]
  },
  {
   "cell_type": "code",
   "execution_count": null,
   "metadata": {
    "collapsed": true
   },
   "outputs": [],
   "source": [
    "{\n",
    "  \"name\": \"your-app-name\",\n",
    "  \"version\": \"X.X.X\",\n",
    "  \"description\": \"Your app description\",\n",
    "  \"author\": \"You\",\n",
    "  \"scripts\" {\n",
    "    \"start\", \"node_modules/.bin/webpack-dev-server --progress\"    \n",
    "  },\n",
    "  \"devDependencies\": {\n",
    "    \"babel-core\": \"~5.8.*\",\n",
    "    \"babel-loader\": \"^5.3.*\",\n",
    "    \"webpack\": \"^1.12.*\",\n",
    "    \"webpack-dev-server\": \"^1.10.*\"\n",
    "  },\n",
    "  \"dependencies\": {\n",
    "    \"react\": \"^13.*\"\n",
    "  }\n",
    "}"
   ]
  },
  {
   "cell_type": "markdown",
   "metadata": {},
   "source": [
    "## 첫 번째 컴포넌트 만들기"
   ]
  },
  {
   "cell_type": "code",
   "execution_count": null,
   "metadata": {
    "collapsed": true
   },
   "outputs": [],
   "source": [
    "import React from 'react';\n",
    "\n",
    "class Hello extends React.Component {\n",
    "    render() {\n",
    "        return (\n",
    "            <h1>Hello World</h1>\n",
    "        );\n",
    "    }\n",
    "}"
   ]
  },
  {
   "cell_type": "code",
   "execution_count": null,
   "metadata": {
    "collapsed": true
   },
   "outputs": [],
   "source": [
    "render(<Hello />, document.getElementById('root'));"
   ]
  },
  {
   "cell_type": "markdown",
   "metadata": {},
   "source": [
    "<img src=\"figures/cap1.2.jpg\" width=400 />"
   ]
  },
  {
   "cell_type": "markdown",
   "metadata": {},
   "source": [
    "## 타이핑 수고를 약간 줄이는 방법"
   ]
  },
  {
   "cell_type": "markdown",
   "metadata": {},
   "source": [
    "## 동적 값"
   ]
  },
  {
   "cell_type": "markdown",
   "metadata": {},
   "source": [
    "# 컴포넌트 조합하기\n",
    "* 속성\n",
    "* 칸반 보드 앱 소개\n",
    "* 컴포넌트 계층 정의\n",
    "* 속성의 중요성\n",
    "* 컴포넌트 만들기\n",
    "* 앱 모듈(App.js)"
   ]
  },
  {
   "cell_type": "markdown",
   "metadata": {},
   "source": [
    "## 속성"
   ]
  },
  {
   "cell_type": "markdown",
   "metadata": {},
   "source": [
    "## 칸반 보드 앱 소개"
   ]
  },
  {
   "cell_type": "markdown",
   "metadata": {},
   "source": [
    "## 컴포넌트 계층 정의"
   ]
  },
  {
   "cell_type": "markdown",
   "metadata": {},
   "source": [
    "## 속성의 중요성"
   ]
  },
  {
   "cell_type": "markdown",
   "metadata": {},
   "source": [
    "## 컴포넌트 만들기"
   ]
  },
  {
   "cell_type": "markdown",
   "metadata": {},
   "source": [
    "## 앱 모듈(App.js)"
   ]
  },
  {
   "cell_type": "markdown",
   "metadata": {},
   "source": [
    "# 상태 소개\n",
    "* 칸반 앱: 토글되는 카드"
   ]
  },
  {
   "cell_type": "markdown",
   "metadata": {},
   "source": [
    "## 칸반 앱: 토글되는 카드"
   ]
  },
  {
   "cell_type": "markdown",
   "metadata": {},
   "source": [
    "# 정리"
   ]
  },
  {
   "cell_type": "markdown",
   "metadata": {},
   "source": [
    "# 참고\n",
    "* [1] 프로 리액트 -http://wikibook.co.kr/pro-react/\n",
    "* [2] 프로 리액트 관련 코드들 - https://github.com/pro-react/\n",
    "* [3] 예제 코드들 - https://github.com/pro-react/sample-code \n",
    "* [4] 현재 예제 코드 - https://github.com/pro-react/sample-code/tree/master/chapter%201"
   ]
  }
 ],
 "metadata": {
  "kernelspec": {
   "display_name": "Python 2",
   "language": "python",
   "name": "python2"
  },
  "language_info": {
   "codemirror_mode": {
    "name": "ipython",
    "version": 2
   },
   "file_extension": ".py",
   "mimetype": "text/x-python",
   "name": "python",
   "nbconvert_exporter": "python",
   "pygments_lexer": "ipython2",
   "version": "2.7.6"
  }
 },
 "nbformat": 4,
 "nbformat_minor": 0
}
