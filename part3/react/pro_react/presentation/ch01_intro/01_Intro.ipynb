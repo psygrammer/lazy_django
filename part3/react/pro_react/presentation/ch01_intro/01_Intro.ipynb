{
 "cells": [
  {
   "cell_type": "markdown",
   "metadata": {},
   "source": [
    "# (React.js를 이용한 모던 프런트엔드 구축) \n",
    "# 1장: 시작하기"
   ]
  },
  {
   "cell_type": "markdown",
   "metadata": {},
   "source": [
    "* 싸이그래머 / 레이지앱스 : 파트 3 - React.js [1]\n",
    "* 김무성"
   ]
  },
  {
   "cell_type": "markdown",
   "metadata": {},
   "source": [
    "#### 참고\n",
    "* [2] 프로 리액트 관련 코드들 - https://github.com/pro-react/\n",
    "* [3] 예제 코드들 - https://github.com/pro-react/sample-code\n",
    "* [4] 현재 예제 코드 - https://github.com/pro-react/sample-code/tree/master/chapter%201"
   ]
  },
  {
   "cell_type": "markdown",
   "metadata": {
    "collapsed": true
   },
   "source": [
    "# 차례 \n",
    "* 시작하기 전에\n",
    "    - Node.js와 npm\n",
    "    - 자바스크립트 ES6\n",
    "* 리액트의 정의\n",
    "* 리액트의 장점\n",
    "    - 편리한 반응형 렌더링\n",
    "    - 순수 자바스크립트를 이용한 컴포넌트 기반 개발\n",
    "    - 문서 모델의 유연한 추상화\n",
    "* 첫 번째 리액트 앱 작성\n",
    "    - 리액트 개발 워크플로\n",
    "    - 첫 번째 컴포넌트 만들기\n",
    "    - 타이핑 수고를 약간 줄이는 방법\n",
    "    - 동적 값\n",
    "* 컴포넌트 조합하기\n",
    "    - 속성\n",
    "    - 칸반 보드 앱 소개\n",
    "    - 컴포넌트 계층 정의\n",
    "    - 속성의 중요성\n",
    "    - 컴포넌트 만들기\n",
    "        - 앱 모듈(App.js)\n",
    "        - KanbanBoard 컴포넌트(KanbanBoard.js) \n",
    "        - List 컴포넌트(List.js) \n",
    "        - Card 컴포넌트(Card.js) \n",
    "        - Checklist 컴포넌트(CheckList.js)\n",
    "        - 마무리 작업\n",
    "* 상태 소개\n",
    "    - 칸반 앱: 토글되는 카드\n",
    "* 정리"
   ]
  },
  {
   "cell_type": "markdown",
   "metadata": {},
   "source": [
    "# 시작하기 전에\n",
    "* Node.js와 npm\n",
    "* 자바스크립트 ES6"
   ]
  },
  {
   "cell_type": "markdown",
   "metadata": {},
   "source": [
    "## Node.js와 npm"
   ]
  },
  {
   "cell_type": "markdown",
   "metadata": {},
   "source": [
    "## 자바스크립트 ES6"
   ]
  },
  {
   "cell_type": "markdown",
   "metadata": {},
   "source": [
    "# 리액트의 정의"
   ]
  },
  {
   "cell_type": "markdown",
   "metadata": {},
   "source": [
    "리엑트의 정의는 다음과 같다(프로리엑트 저자의 정의) \n",
    "* 리엑트는 엔진이다.\n",
    "* 조합형 사용자 인터페이스를 구축한다.\n",
    "* 자바스크립트와 (필요에 따라) XML을 이용한다."
   ]
  },
  {
   "cell_type": "markdown",
   "metadata": {},
   "source": [
    "# 리액트의 장점\n",
    "* 편리한 반응형 렌더링\n",
    "* 순수 자바스크립트를 이용한 컴포넌트 기반 개발\n",
    "* 문서 모델의 유연한 추상화"
   ]
  },
  {
   "cell_type": "markdown",
   "metadata": {},
   "source": [
    "## 편리한 반응형 렌더링"
   ]
  },
  {
   "cell_type": "markdown",
   "metadata": {},
   "source": [
    "다음과 같은 점이 좋다.\n",
    "* 반응형 렌더링\n",
    "* 가상 DOM"
   ]
  },
  {
   "cell_type": "markdown",
   "metadata": {},
   "source": [
    "## 순수 자바스크립트를 이용한 컴포넌트 기반 개발"
   ]
  },
  {
   "cell_type": "markdown",
   "metadata": {},
   "source": [
    "다음과 같은 점이 좋다.\n",
    "* 컴포넌트 기반 - 분할 정복 방식 적용 가능\n",
    "* 자바스크립트만으로 작성\n",
    "* 관심사의 분리 \n",
    "* 캡슐화 - 컴포턴트에 표시 논리와 마크업을 서로 연결해서 컴포넌트로 묶어서 한번에 렌더링, 다른 컴포넌트와 독립적"
   ]
  },
  {
   "cell_type": "markdown",
   "metadata": {},
   "source": [
    "## 문서 모델의 유연한 추상화"
   ]
  },
  {
   "cell_type": "markdown",
   "metadata": {},
   "source": [
    "다음과 같은 점이 좋다.\n",
    "* 이벤트가 모든 브라우저와 장치에서 자동으로 위임을 이용해 일관되고 표준을 준수하는 방식으로 작동한다.\n",
    "* 리액트 컴포넌트를 서버에서 렌더링해 SEO와 체감 성능을 개선할 수 있다."
   ]
  },
  {
   "cell_type": "markdown",
   "metadata": {},
   "source": [
    "# 첫 번째 리액트 앱 작성\n",
    "* 리액트 개발 워크플로\n",
    "* 첫 번째 컴포넌트 만들기\n",
    "* 타이핑 수고를 약간 줄이는 방법\n",
    "* 동적 값"
   ]
  },
  {
   "cell_type": "markdown",
   "metadata": {},
   "source": [
    "#### 기본적인 리액트 컴포넌트"
   ]
  },
  {
   "cell_type": "code",
   "execution_count": null,
   "metadata": {
    "collapsed": true
   },
   "outputs": [],
   "source": [
    "class Hello extends React.Component {\n",
    "  render() {\n",
    "    return (\n",
    "      <h1>Hello Workd</hl>\n",
    "    )\n",
    "  }\n",
    "}"
   ]
  },
  {
   "cell_type": "markdown",
   "metadata": {},
   "source": [
    "* 참고 : JSX라는 자바스크립트 구문 확장을 이용한다(필수는 아님). 2장에서 다룬다."
   ]
  },
  {
   "cell_type": "markdown",
   "metadata": {},
   "source": [
    "## 리액트 개발 워크플로\n",
    "* 빠르게 시작하기\n",
    "* 또는 직접 해보기"
   ]
  },
  {
   "cell_type": "markdown",
   "metadata": {},
   "source": [
    "#### 가장 기본적인 시나리오"
   ]
  },
  {
   "cell_type": "markdown",
   "metadata": {},
   "source": [
    "* JSX를 작성하고 즉석에서 일반 자바스크립트로 변환\n",
    "* 코드를 모듈 패턴으로 작성\n",
    "* 의존성 관리\n",
    "* 자바스크립트 파일을 번들로 만들고 디버깅을 위해 소스 맵을 이용"
   ]
  },
  {
   "cell_type": "markdown",
   "metadata": {},
   "source": [
    "#### 리엑트 기본 프로젝트 구조"
   ]
  },
  {
   "cell_type": "markdown",
   "metadata": {},
   "source": [
    "1. 모든 자바스크립트 모듈을 포함하는 소스 폴더\n",
    "2. index.html 파일\n",
    "3. package.json 파일\n",
    "4. 모듈 패키저 또는 빌드 도구\n",
    "    - JSX 변환과 모듈/의존성 번들 작업에 이용\n",
    "    - 리액트 커뮤니티에서는 웹팩(webpack)을 사용하는 것을 선호."
   ]
  },
  {
   "cell_type": "markdown",
   "metadata": {},
   "source": [
    "<img src=\"figures/cap1.1.jpg\" width=400 />"
   ]
  },
  {
   "cell_type": "markdown",
   "metadata": {},
   "source": [
    "### 빠르기 시작하기"
   ]
  },
  {
   "cell_type": "markdown",
   "metadata": {},
   "source": [
    "* [4] 현재 예제 코드 - https://github.com/pro-react/sample-code/tree/master/chapter%201"
   ]
  },
  {
   "cell_type": "markdown",
   "metadata": {},
   "source": [
    "### 또는 직접 해보기"
   ]
  },
  {
   "cell_type": "markdown",
   "metadata": {},
   "source": [
    "직접 해보는 것을 선호한다면 5단계로 기본 프로젝트 구조를 직접 만들 수 있다. \n",
    "1. 가장 먼저 소스 폴더(일반적인 이름은 source 또는 app)를 만든다.\n",
    "    - 자바스크립트 모듈만 포함\n",
    "    - 모듈 번들러로 처리되지 않는 정적 애셋(예:index.html, 이미지 파일, css 파일 등)은 루트 폴더에 저장\n",
    "2. 프로젝트의 루트 폴더에 예제 1-1과 같은 내용의 index.html 파일을 만든다.\n",
    "3. 터미널이나 명령 프롬프트에서 npm init 명령 실행 -> package.json 파일을 만든다(의존성 관리) -> npm install을 실행한다.\n",
    "4. 모듈 번들러인 웹팩을 구성한다.\n",
    "5. 프로젝트 구조 완성. 브라우저에서 테스트하기 위해 로컬 서버 시작."
   ]
  },
  {
   "cell_type": "markdown",
   "metadata": {},
   "source": [
    "#### 예제 1-1. 번들된 자바스크립트를 로드하고 리액트 컴포넌트를 렌더링할 루트 div를 제공하는 간단한 HTML 페이지."
   ]
  },
  {
   "cell_type": "code",
   "execution_count": null,
   "metadata": {
    "collapsed": true
   },
   "outputs": [],
   "source": [
    "<!DOCTYPE html>\n",
    "<html>\n",
    "  <head>\n",
    "    <title>First React Component</title>\n",
    "    <link rel=\"stylesheet\" href=\"styles.css\">\n",
    "  </head>\n",
    "  <body>\n",
    "    <div id='root'></div>\n",
    "    <script type=\"text/javascript\" src=\"bundle.js\"></script>\n",
    "  </body>\n",
    "</html>"
   ]
  },
  {
   "cell_type": "markdown",
   "metadata": {},
   "source": [
    "#### 예제 1-2. package.json에 포함된 의존성"
   ]
  },
  {
   "cell_type": "code",
   "execution_count": null,
   "metadata": {
    "collapsed": true
   },
   "outputs": [],
   "source": [
    "{\n",
    "  \"name\": \"your-app-name\",\n",
    "  \"version\": \"X.X.X\",\n",
    "  \"description\": \"Your app description\",\n",
    "  \"author\": \"You\",\n",
    "  \"devDependencies\": {\n",
    "    \"babel-core\": \"~5.8.*\",\n",
    "    \"babel-loader\": \"^5.3.*\",\n",
    "    \"webpack\": \"^1.12.*\",\n",
    "    \"webpack-dev-server\": \"^1.10.*\"\n",
    "  },\n",
    "  \"dependencies\": {\n",
    "    \"react\": \"^13.*\"\n",
    "  }\n",
    "}"
   ]
  },
  {
   "cell_type": "markdown",
   "metadata": {},
   "source": [
    "#### 예제 1.3. webpack.config.js 파일"
   ]
  },
  {
   "cell_type": "markdown",
   "metadata": {},
   "source": [
    "* 책의 예제와 너무 달라서, 저자 깃헙 소스코드를 바로 연결함.\n",
    "* https://github.com/pro-react/sample-code/blob/master/chapter%201/groceryList/webpack.config.js"
   ]
  },
  {
   "cell_type": "markdown",
   "metadata": {},
   "source": [
    "#### 예제 1-4. package.json에 start 스크립트 추가"
   ]
  },
  {
   "cell_type": "code",
   "execution_count": null,
   "metadata": {
    "collapsed": true
   },
   "outputs": [],
   "source": [
    "{\n",
    "  \"name\": \"your-app-name\",\n",
    "  \"version\": \"X.X.X\",\n",
    "  \"description\": \"Your app description\",\n",
    "  \"author\": \"You\",\n",
    "  \"scripts\" {\n",
    "    \"start\", \"node_modules/.bin/webpack-dev-server --progress\"    \n",
    "  },\n",
    "  \"devDependencies\": {\n",
    "    \"babel-core\": \"~5.8.*\",\n",
    "    \"babel-loader\": \"^5.3.*\",\n",
    "    \"webpack\": \"^1.12.*\",\n",
    "    \"webpack-dev-server\": \"^1.10.*\"\n",
    "  },\n",
    "  \"dependencies\": {\n",
    "    \"react\": \"^13.*\"\n",
    "  }\n",
    "}"
   ]
  },
  {
   "cell_type": "markdown",
   "metadata": {},
   "source": [
    "## 첫 번째 컴포넌트 만들기"
   ]
  },
  {
   "cell_type": "code",
   "execution_count": null,
   "metadata": {
    "collapsed": true
   },
   "outputs": [],
   "source": [
    "import React from 'react';\n",
    "\n",
    "class Hello extends React.Component {\n",
    "    render() {\n",
    "        return (\n",
    "            <h1>Hello World</h1>\n",
    "        );\n",
    "    }\n",
    "}"
   ]
  },
  {
   "cell_type": "code",
   "execution_count": null,
   "metadata": {
    "collapsed": true
   },
   "outputs": [],
   "source": [
    "render(<Hello />, document.getElementById('root'));"
   ]
  },
  {
   "cell_type": "markdown",
   "metadata": {},
   "source": [
    "<img src=\"figures/cap1.2.jpg\" width=400 />"
   ]
  },
  {
   "cell_type": "markdown",
   "metadata": {},
   "source": [
    "## 타이핑 수고를 약간 줄이는 방법"
   ]
  },
  {
   "cell_type": "markdown",
   "metadata": {},
   "source": [
    "## 동적 값"
   ]
  },
  {
   "cell_type": "markdown",
   "metadata": {},
   "source": [
    "JSX에서 중괄호안에 있는 값은 자바스크립트 식으로 계산되고 마크업 안에서 렌더링 변수의 값을 렌더링하려면 다음 예제와 같이 할 수 있다. "
   ]
  },
  {
   "cell_type": "code",
   "execution_count": null,
   "metadata": {
    "collapsed": true
   },
   "outputs": [],
   "source": [
    "import React, { Component } from 'recat';\n",
    "\n",
    "class Hello extends Component {\n",
    "    render() {\n",
    "        var place = \"World\";\n",
    "        return {\n",
    "            <h1>Hello {place}</h1>\n",
    "        }\n",
    "    }\n",
    "}"
   ]
  },
  {
   "cell_type": "markdown",
   "metadata": {},
   "source": [
    "# 컴포넌트 조합하기\n",
    "* 속성\n",
    "* 칸반 보드 앱 소개\n",
    "* 컴포넌트 계층 정의\n",
    "* 속성의 중요성\n",
    "* 컴포넌트 만들기\n",
    "* 앱 모듈(App.js)"
   ]
  },
  {
   "cell_type": "markdown",
   "metadata": {},
   "source": [
    "리액트는 재사용 간단한 간단한 컴포넌트를 중첩하고 조합해서 복잡한 UI를 만들어가길 권한다."
   ]
  },
  {
   "cell_type": "markdown",
   "metadata": {},
   "source": [
    "## 속성"
   ]
  },
  {
   "cell_type": "markdown",
   "metadata": {},
   "source": [
    "* 컴포넌트를 재사용하고 조합하는 것이 가능한 이유는 컴포넌트를 구성할 수 있기 때문\n",
    "* 리액트는 컴포넌트 구성을 위해 속성(property)를 제공.\n",
    "* 속성은 부모 컴포넌트에서 자식 컴포넌트로 데이터를 전달하는 메커니즘\n",
    "* 속성은 자식 컴포넌트에서는 변경할 수 없으며, 부모 컴포넌트가 전달하고 \"소유\"한다."
   ]
  },
  {
   "cell_type": "markdown",
   "metadata": {},
   "source": [
    "#### 식료품 리스트 예제"
   ]
  },
  {
   "cell_type": "code",
   "execution_count": null,
   "metadata": {
    "collapsed": true
   },
   "outputs": [],
   "source": [
    "import React, { Component } from 'react';\n",
    "import {render} from 'react-dom';\n",
    "\n",
    "// Parent Component\n",
    "class GroceryList extends Component {\n",
    "  render() {\n",
    "    return (\n",
    "      <ul>\n",
    "        <ListItem quantity=\"1\">Bread</ListItem>\n",
    "        <ListItem quantity=\"6\">Eggs</ListItem>\n",
    "        <ListItem quantity=\"2\">Milk</ListItem>\n",
    "      </ul>\n",
    "    );\n",
    "  }\n",
    "}\n",
    "\n",
    "// Child Component\n",
    "class ListItem extends Component {\n",
    "  render() {\n",
    "    return (\n",
    "      <li>\n",
    "        {this.props.quantity}× {this.props.children}\n",
    "      </li>\n",
    "    );\n",
    "  }\n",
    "}\n",
    "\n",
    "render(<GroceryList />, document.getElementById('root'));"
   ]
  },
  {
   "cell_type": "markdown",
   "metadata": {},
   "source": [
    "## 칸반 보드 앱 소개"
   ]
  },
  {
   "cell_type": "markdown",
   "metadata": {},
   "source": [
    "#### 참고\n",
    "* [5] 칸반 앱 코드 - https://github.com/pro-react/kanban-app"
   ]
  },
  {
   "cell_type": "markdown",
   "metadata": {},
   "source": [
    "<img src=\"figures/cap1.3.jpg\" width=600 />"
   ]
  },
  {
   "cell_type": "markdown",
   "metadata": {},
   "source": [
    "<img src=\"figures/cap1.4.jpg\" width=600 />"
   ]
  },
  {
   "cell_type": "markdown",
   "metadata": {},
   "source": [
    "#### 데이터 모델 "
   ]
  },
  {
   "cell_type": "code",
   "execution_count": null,
   "metadata": {
    "collapsed": true
   },
   "outputs": [],
   "source": [
    "# 예제 1-5 칸반 앱 데이터 모델\n",
    "[\n",
    "  {\n",
    "    id: 1,\n",
    "    title: \"Read the Book\",\n",
    "    description: \"I should read the whole book\",\n",
    "    status: \"in-progress\",\n",
    "    tasks: []\n",
    "  },\n",
    "  {\n",
    "    id: 2,\n",
    "    title: \"Write some code\",\n",
    "    description: \"Code along with the samples in the book\",\n",
    "    status: \"todo\",\n",
    "    tasks: [\n",
    "      {\n",
    "        id: 1,\n",
    "        name: \"ContactList Example\",\n",
    "        done: true\n",
    "      },\n",
    "      {\n",
    "        id: 2,\n",
    "        name: \"Kanban Example\",\n",
    "        done: false\n",
    "      },\n",
    "      {\n",
    "        id: 3,\n",
    "        name: \"My own experiments\",\n",
    "        done: false\n",
    "      }\n",
    "    ]\n",
    "  }\n",
    "]"
   ]
  },
  {
   "cell_type": "markdown",
   "metadata": {},
   "source": [
    "## 컴포넌트 계층 정의"
   ]
  },
  {
   "cell_type": "markdown",
   "metadata": {},
   "source": [
    "<img src=\"figures/cap1.5.jpg\" width=600 />"
   ]
  },
  {
   "cell_type": "markdown",
   "metadata": {},
   "source": [
    "## 속성의 중요성"
   ]
  },
  {
   "cell_type": "markdown",
   "metadata": {},
   "source": [
    "속성(property)은 컴포넌트 조합에서 가장 중요한 역할을 한다."
   ]
  },
  {
   "cell_type": "markdown",
   "metadata": {},
   "source": [
    "## 컴포넌트 만들기\n",
    "* 앱 모듈(App.js)\n",
    "* KanbanBoard 컴포넌트(KanbanBoard.js) \n",
    "* List 컴포넌트(List.js) \n",
    "* Card 컴포넌트(Card.js) \n",
    "* Checklist 컴포넌트(CheckList.js)\n",
    "* 마무리 작업"
   ]
  },
  {
   "cell_type": "markdown",
   "metadata": {},
   "source": [
    "컴포넌트 만드는 데는 하향식과 상향식의 두 가지 기본 접근법이 있다.\n",
    "* 하향식(top-down)\n",
    "    - 계층 위쪽에 있는 컴포넌트(예: App 컴포넌트)를 먼저 만든다.\n",
    "* 상향식(bottom-up)\n",
    "    - 계층 아래쪽에 있는 컴포넌트(예: CheckList 컴포넌트)를 먼저 만든다."
   ]
  },
  {
   "cell_type": "markdown",
   "metadata": {},
   "source": [
    "이 책에서는 하향식으로 다음과 같이 만든다.\n",
    "* App 모듈 \n",
    "    - -> KanbanBoard 컴포넌트(KanbanBoard.js) \n",
    "        - -> List 컴포넌트(List.js) \n",
    "            - -> Card 컴포넌트(Card.js) \n",
    "                - -> Checklist 컴포넌트(CheckList.js)"
   ]
  },
  {
   "cell_type": "markdown",
   "metadata": {},
   "source": [
    "### 앱 모듈(App.js)"
   ]
  },
  {
   "cell_type": "code",
   "execution_count": null,
   "metadata": {
    "collapsed": true
   },
   "outputs": [],
   "source": [
    "import React from 'react';\n",
    "import {render} from 'react-dom';\n",
    "import KanbanBoard from './KanbanBoard';\n",
    "\n",
    "let cardsList = [\n",
    "  {\n",
    "    id: 1,\n",
    "    title: \"Read the Book\",\n",
    "    description: \"I should read the whole book\",\n",
    "    status: \"in-progress\",\n",
    "    tasks: []\n",
    "  },\n",
    "  {\n",
    "    id: 2,\n",
    "    title: \"Write some code\",\n",
    "    description: \"Code along with the samples in the book\",\n",
    "    status: \"todo\",\n",
    "    tasks: [\n",
    "      {\n",
    "        id: 1,\n",
    "        name: \"ContactList Example\",\n",
    "        done: true\n",
    "      },\n",
    "      {\n",
    "        id: 2,\n",
    "        name: \"Kanban Example\",\n",
    "        done: false\n",
    "      },\n",
    "      {\n",
    "        id: 3,\n",
    "        name: \"My own experiments\",\n",
    "        done: false\n",
    "      }\n",
    "    ]\n",
    "  }\n",
    "];\n",
    "\n",
    "render(<KanbanBoard cards={cardsList} />, document.getElementById('root'));\n"
   ]
  },
  {
   "cell_type": "markdown",
   "metadata": {},
   "source": [
    "### KanbanBoard 컴포넌트(KanbanBoard.js) "
   ]
  },
  {
   "cell_type": "code",
   "execution_count": null,
   "metadata": {
    "collapsed": true
   },
   "outputs": [],
   "source": [
    "import React, { Component } from 'react';\n",
    "import List from './List';\n",
    "\n",
    "class KanbanBoard extends Component {\n",
    "  render(){\n",
    "    return (\n",
    "      <div className=\"app\">\n",
    "        <List id='todo'\n",
    "              title=\"To Do\"\n",
    "              cards={this.props.cards.filter((card) => card.status === \"todo\")} />\n",
    "        <List id='in-progress'\n",
    "              title=\"In Progress\"\n",
    "              cards={this.props.cards.filter((card) => card.status === \"in-progress\")} />\n",
    "        <List id='done'\n",
    "              title='Done'\n",
    "              cards={this.props.cards.filter((card) => card.status === \"done\")} />\n",
    "      </div>\n",
    "    );\n",
    "  }\n",
    "};\n",
    "\n",
    "export default KanbanBoard;\n"
   ]
  },
  {
   "cell_type": "markdown",
   "metadata": {},
   "source": [
    "### List 컴포넌트(List.js) "
   ]
  },
  {
   "cell_type": "code",
   "execution_count": null,
   "metadata": {
    "collapsed": true
   },
   "outputs": [],
   "source": [
    "import React, { Component } from 'react';\n",
    "import Card from './Card';\n",
    "\n",
    "class List extends Component {\n",
    "  render() {\n",
    "    var cards = this.props.cards.map((card) => {\n",
    "      return <Card id={card.id}\n",
    "                   title={card.title}\n",
    "                   description={card.description}\n",
    "                   tasks={card.tasks} />\n",
    "    });\n",
    "\n",
    "    return (\n",
    "      <div className=\"list\">\n",
    "        <h1>{this.props.title}</h1>\n",
    "        {cards}\n",
    "      </div>\n",
    "    );\n",
    "  }\n",
    "};\n",
    "\n",
    "export default List;\n"
   ]
  },
  {
   "cell_type": "markdown",
   "metadata": {},
   "source": [
    "### Card 컴포넌트(Card.js) "
   ]
  },
  {
   "cell_type": "markdown",
   "metadata": {},
   "source": [
    "<img src=\"figures/card.jpg\" width=400 />"
   ]
  },
  {
   "cell_type": "code",
   "execution_count": null,
   "metadata": {
    "collapsed": true
   },
   "outputs": [],
   "source": [
    "import React, { Component } from 'react';\n",
    "import CheckList from './CheckList';\n",
    "\n",
    "class Card extends Component {\n",
    "  render() {\n",
    "    return (\n",
    "      <div className=\"card\">\n",
    "        <div className=\"card__title\">{this.props.title}</div>\n",
    "        <div className=\"card__details\">\n",
    "            {this.props.description}\n",
    "            <Checklist cardId={this.props.id} tasks={this.props.tasks} />\n",
    "        </div>\n",
    "    );\n",
    "  }\n",
    "}\n",
    "\n",
    "export default Card;"
   ]
  },
  {
   "cell_type": "markdown",
   "metadata": {},
   "source": [
    "### Checklist 컴포넌트(CheckList.js)"
   ]
  },
  {
   "cell_type": "code",
   "execution_count": null,
   "metadata": {
    "collapsed": true
   },
   "outputs": [],
   "source": [
    "import React, { Component } from 'react';\n",
    "\n",
    "class CheckList extends Component {\n",
    "  render() {\n",
    "    let tasks = this.props.tasks.map((task) => (\n",
    "      <li className=\"checklist__task\">\n",
    "        <input type=\"checkbox\" defaultChecked={task.done} />\n",
    "        {task.name}\n",
    "        <a href=\"#\" className=\"checklist__task--remove\" />\n",
    "      </li>\n",
    "    ));\n",
    "\n",
    "    return (\n",
    "      <div className=\"checklist\">\n",
    "        <ul>{tasks}</ul>\n",
    "      </div>\n",
    "    );\n",
    "  }\n",
    "}\n",
    "\n",
    "export default CheckList;"
   ]
  },
  {
   "cell_type": "markdown",
   "metadata": {},
   "source": [
    "### 마무리 작업"
   ]
  },
  {
   "cell_type": "code",
   "execution_count": null,
   "metadata": {
    "collapsed": true
   },
   "outputs": [],
   "source": [
    "<!DOCTYPE html>\n",
    "<html lang=\"en\">\n",
    "  <head>\n",
    "    <meta charset=\"UTF-8\">\n",
    "    <title>Pro-React Kanban</title>\n",
    "    <link rel=\"stylesheet\" href=\"styles.css\">\n",
    "  </head>\n",
    "  <body>\n",
    "    <div id='root'>\n",
    "    </div>\n",
    "    <script src=\"bundle.js\"></script>\n",
    "  </body>\n",
    "</html>"
   ]
  },
  {
   "cell_type": "markdown",
   "metadata": {},
   "source": [
    "<img src=\"figures/cap1.7.jpg\" width=600 />"
   ]
  },
  {
   "cell_type": "code",
   "execution_count": null,
   "metadata": {
    "collapsed": true
   },
   "outputs": [],
   "source": [
    "*{\n",
    "  box-sizing: border-box;\n",
    "}\n",
    "\n",
    "html,body,#root {\n",
    "  height:100%;\n",
    "  margin: 0;\n",
    "  padding: 0;\n",
    "}\n",
    "\n",
    "body {\n",
    "  background: #eee;\n",
    "  font-family: \"Helvetica Neue\", Helvetica, Arial, sans-serif;\n",
    "}\n",
    "\n",
    "h1{\n",
    "  font-weight: 200;\n",
    "  color: #3b414c;\n",
    "  font-size: 20px;\n",
    "}\n",
    "\n",
    "ul {\n",
    "  list-style-type: none;\n",
    "  padding: 0;\n",
    "  margin: 0;\n",
    "}\n",
    "\n",
    ".app {\n",
    "  white-space: nowrap;\n",
    "  height:100%;\n",
    "}\n",
    "\n",
    ".list {\n",
    "  position: relative;\n",
    "  display: inline-block;\n",
    "  vertical-align: top;\n",
    "  white-space: normal;\n",
    "  height: 100%;\n",
    "  width: 33%;\n",
    "  padding: 0 20px;\n",
    "  overflow: auto;\n",
    "}\n",
    "\n",
    ".list:not(:last-child):after{\n",
    "  content: \"\";\n",
    "  position: absolute;\n",
    "  top: 0;\n",
    "  right: 0;\n",
    "  width: 1px;\n",
    "  height: 99%;\n",
    "  background: linear-gradient(to bottom, #eee 0%, #ccc 50%, #eee 100%) fixed;\n",
    "}\n",
    "\n",
    ".card {\n",
    "  position: relative;\n",
    "  z-index: 1;\n",
    "  background: #fff;\n",
    "  width: 100%;\n",
    "  padding: 10px 10px 10px 15px;\n",
    "  margin: 0 0 10px 0;\n",
    "  overflow: auto;\n",
    "  border: 1px solid #e5e5df;\n",
    "  border-radius: 3px;\n",
    "  box-shadow: 0 1px 0 rgba(0, 0, 0, 0.25);\n",
    "}\n",
    "\n",
    ".card__title {\n",
    "  font-weight: bold;\n",
    "  border-bottom: solid 5px transparent;\n",
    "}\n",
    "\n",
    ".card__title:before {\n",
    "  display: inline-block;\n",
    "  width: 1em;\n",
    "  content: '▸';\n",
    "}\n",
    "\n",
    ".card__title--is-open:before {\n",
    "  content: '▾';\n",
    "}\n",
    "\n",
    ".checklist__task:first-child {\n",
    "  margin-top: 10px;\n",
    "  padding-top: 10px;\n",
    "  border-top: dashed 1px #ddd;\n",
    "}\n",
    "\n",
    ".checklist__task--remove:after{\n",
    "  display: inline-block;\n",
    "  color: #d66;\n",
    "  content: \"✖\";\n",
    "}"
   ]
  },
  {
   "cell_type": "markdown",
   "metadata": {},
   "source": [
    "# 상태 소개\n",
    "* 칸반 앱: 토글되는 카드"
   ]
  },
  {
   "cell_type": "markdown",
   "metadata": {},
   "source": [
    "속성(property)는 컴포넌트로 전달되며 변경 불가. 하지만 동적으로 상호작용하려면 쓰기가 가능해야 한다.\n",
    "* 이를 위해 리액트 컴포넌트는 this.state 안에 여러 데이터를 가질 수 있다.\n",
    "\n",
    "상태(state)\n",
    "* this.state는 특정 컴포넌트 전용이며, this.setState()를 호출해 변경할 수 있다.\n",
    "* 상태가 업데이트되면 \n",
    "    - 컴포넌트의 반응형 렌더링이 트리거 되고\n",
    "        - 해당 컴포넌트와 그 자식이 다시 렌더링된다.\n",
    "            - 리액트는 가상 DOM을 이용하므로 이 작업은 아주 빠르게 수행된다.  "
   ]
  },
  {
   "cell_type": "markdown",
   "metadata": {},
   "source": [
    "## 칸반 앱: 토글되는 카드"
   ]
  },
  {
   "cell_type": "markdown",
   "metadata": {},
   "source": [
    "<img src=\"figures/cap1.6.jpg\" width=600 />"
   ]
  },
  {
   "cell_type": "code",
   "execution_count": null,
   "metadata": {
    "collapsed": true
   },
   "outputs": [],
   "source": [
    "import React, { Component } from 'react';\n",
    "import CheckList from './CheckList';\n",
    "\n",
    "class Card extends Component {\n",
    "  constructor() {\n",
    "    super(...arguments);\n",
    "    this.state = {\n",
    "      showDetails: false\n",
    "    }\n",
    "  };\n",
    "  \n",
    "  render() {\n",
    "    let cardDetails;\n",
    "    if (this.state.showDetails) {\n",
    "      cardDetails = (\n",
    "        <div className=\"card__details\">\n",
    "          {this.props.description}\n",
    "          <CheckList cardId={this.props.id} tasks={this.props.tasks} />\n",
    "        </div>\n",
    "      );\n",
    "    };\n",
    "    return (\n",
    "      <div className=\"card\">\n",
    "        <div className=\"card__title\" onClick={\n",
    "          ()=>this.setState({showDetails: !this.state.showDetails})\n",
    "        }>{this.props.title}</div>\n",
    "        {cardDetails}\n",
    "      </div>\n",
    "    );\n",
    "  }\n",
    "}\n",
    "\n",
    "export default Card;\n"
   ]
  },
  {
   "cell_type": "markdown",
   "metadata": {},
   "source": [
    "# 정리"
   ]
  },
  {
   "cell_type": "markdown",
   "metadata": {},
   "source": [
    "# 참고\n",
    "* [1] 프로 리액트 -http://wikibook.co.kr/pro-react/\n",
    "* [2] 프로 리액트 관련 코드들 - https://github.com/pro-react/\n",
    "* [3] 예제 코드들 - https://github.com/pro-react/sample-code \n",
    "* [4] 현재 예제 코드 - https://github.com/pro-react/sample-code/tree/master/chapter%201\n",
    "* [5] 칸반 앱 코드 - https://github.com/pro-react/kanban-app"
   ]
  }
 ],
 "metadata": {
  "kernelspec": {
   "display_name": "Python 2",
   "language": "python",
   "name": "python2"
  },
  "language_info": {
   "codemirror_mode": {
    "name": "ipython",
    "version": 2
   },
   "file_extension": ".py",
   "mimetype": "text/x-python",
   "name": "python",
   "nbconvert_exporter": "python",
   "pygments_lexer": "ipython2",
   "version": "2.7.6"
  }
 },
 "nbformat": 4,
 "nbformat_minor": 0
}
