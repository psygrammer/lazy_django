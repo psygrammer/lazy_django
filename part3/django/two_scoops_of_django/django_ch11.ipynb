{
 "cells": [
  {
   "cell_type": "markdown",
   "metadata": {},
   "source": [
    "# 11장 장고 폼의 기초\n",
    "\n",
    "장고 프로젝트라면 마땅히 폼을 이용해야 할 것이다.<br/>\n",
    "또한 대부분(95%)의 장고 프로젝트는 폼 중에서도 모델폼을 써야 할 것이다.\n",
    "\n",
    "장고는 강력한 기능을 가진 폼을 제공하며 애플리케이션 외부에서 입력된 어떤 데이터가 어떻게 폼으로 처리되는지 이해한다면 데이터를 그만큼 깔끔하게 정리하여 저장할 수 있다.\n",
    "\n",
    "장고 폼에 대해 기억해야 할 가장 중요한 점은 어떠한 데이터든 간에 입력 데이터라고 한다면 장고 폼을 이용하여 유효성 검사를 해야 한다는 것이다."
   ]
  },
  {
   "cell_type": "markdown",
   "metadata": {},
   "source": [
    "## 11.1 장고 폼을 이용하여 모든 입력 데이터에 대한 유효성 검사하기\n",
    "\n",
    "장고 폼은 파이썬 딕셔너리의 유효성을 검사하는데 최상의 도구다. 대부분의 경우 POST가 포함된 HTTP 요청을 받아 유효성을 검사하는데 이용함.\n",
    "\n",
    "책에서는 csv 파일을 입력 받아 모델을 업데이트하는 장고 앱에도 사용할 수 있다고 예시가 나옴.\n",
    "\n",
    "[참고] <a href='http://www.2scoops.co/1.8-code-examples'>코드 샘플</a>"
   ]
  },
  {
   "cell_type": "markdown",
   "metadata": {},
   "source": [
    "<pre>\n",
    "import csv\n",
    "import StringIO\n",
    "\n",
    "from .models import Purchase\n",
    "\n",
    "def add_csv_purchases(rows):\n",
    "    \n",
    "    rows = StringIO.StringIO(rows)\n",
    "    records_added = 0\n",
    "    \n",
    "    # 한 줄당 하나의 dict를 생성. 단 첫 번째 줄은 키 값으로 함\n",
    "    for row in csv.DictReader(rows, delimiter=\",\"):\n",
    "        # 절대 따라하지 말 것: 유효성 검사 없이 바로 모델로 데이터 입력\n",
    "        purchase.objects.create(**row)\n",
    "        records_added += 1\n",
    "    return records_added\n",
    "</pre>"
   ]
  },
  {
   "cell_type": "markdown",
   "metadata": {},
   "source": [
    "<a href='https://github.com/twoscoops/two-scoops-of-django-1.8/blob/master/code/chapter_11_example_1.py'>장고 폼을 이용하여 입력 데이터에 대해 유효성 검사를 추가한 소스</a>\n",
    "\n",
    "위 소스는 장고의 폼을 이용하여 입력 데이터에 대해 유효성 검사를 하는 방식.\n",
    "\n",
    "입력되는 데이터에 대해 일일이 유효성 검사 코드를 직접 만들지 않고 장고에서 제공하는 검증된 데이터 테스트 프레임워크를 이용하자!!"
   ]
  },
  {
   "cell_type": "markdown",
   "metadata": {},
   "source": [
    "## 11.2 HTML 폼에서 POST 메서드 이용하기\n",
    "\n",
    "데이터를 변경하는 모든 HTML 폼은 POST 메서드를 이용하여 데이터를 전송하게 된다.\n",
    "\n",
    "<form action=\"{% url \"flavor_add\" %} method=\"POST\">\n",
    "\n",
    "폼에서 post 메서드를 이용하지 않는 유일한 경우는 검색 폼이다. 검색 폼은 일반적으로 어떤 데이터도 변경하지 않기 때문이다. 검색 폼은 데이터 변경을 가져오지 않기 때문에 GET 메서드를 이용할 수 있다."
   ]
  },
  {
   "cell_type": "markdown",
   "metadata": {},
   "source": [
    "## 11.3 데이터를 변경하는 HTTP 폼은 언제나 CSRF 보안을 이용해야 한다.\n",
    "\n",
    "장고에는 CSRF(cross-site request forgery protection, 사이트 간 위조 요청 방지)가 내장되어 있다.\n",
    "\n",
    "사용 방법: 장고 초보 튜토리얼 가이드의 4부 (https://docs.djangoproject.com/en/1.8/intro/tutorial04)\n",
    "\n",
    "CSRF 보안을 사용하지 않으면 치명적인 보안 문제를 일으킬 수 있으므로 이 책의 보안 관련 장에서도 항상 장고의 CSRF 보안을 이용하라고 충고하고 있다.\n",
    "\n",
    "CSRF 보안을 잠시 꺼 두어도 되는 경우로는 머신들 사이에 이용되는 API 사이트를 제작할 때다. django-tastypie 나 django-rest-framework 같은 API 프레임워크에서는 이러한 처리를 자동으로 다해준다. API 요청은 단일 요청을 기반으로 인증 요청/인증 허용을 하기 때문에 이런 경우 일반적으로 HTTP 쿠키를 인증 수단으로 이용하지 않는다. 따라서 이러한 프레임워크에서는 CSRF로 인한 문제가 일어나지 않는다.\n",
    "\n",
    "<a href=\"https://docs.djangoproject.com/en/1.8/ref/csrf\">장고의 CSRF 문서</a>\n",
    "\n",
    "<a href=\"https://ko.wikipedia.org/wiki/사이트_간_요청_위조\">CSRF WiKi 문서</a>"
   ]
  },
  {
   "cell_type": "markdown",
   "metadata": {},
   "source": [
    "### 11.3.1 AJAX를 통해 데이터 추가하기\n",
    "\n",
    "AJAX를 통해 데이터를 추가할 때는 반드시 장고의 CSRF 보안을 이용해야 한다. 절대 AJAX 뷰를 CSRF에 예외 처리하지 말기 바란다. AJAX를 통해 데이터를 보낼 때 HTTP 헤더에 X-CSRFToken을 설정해 두도록 한다.\n",
    "\n",
    "장고 공식 문서에 jQuery 1.5 이상 버전에서 크로스 도메인 확인과 함께 POST 요청에 X-CSRFToken을 추가하는 방법이 나와 있다.\n",
    "https://docs.djangoproject.com/en/1.8/ref/csrf#ajax"
   ]
  },
  {
   "cell_type": "markdown",
   "metadata": {},
   "source": [
    "## 11.4 장고의 폼 인스턴스 속성을 추가하는 방법 이해하기\n",
    "\n",
    "때때로 장고 폼의 clean(), clean_{Field이름}, save() 메서드에 추가로 폼 인스턴스 속성이 필요할 때가 있다. 이럴 경우에는 request.user 객체를 이용하면 된다.\n",
    "\n",
    "예제 11.4 - 폼 소스\n",
    "\n",
    "https://github.com/twoscoops/two-scoops-of-django-1.8/blob/master/code/chapter_11_example_4.py\n",
    "\n",
    "super()를 호출하기 이전에 self.user가 추가된 것과 어떻게 kwargs를 호출했는지 주의깊게 볼 것.\n",
    "\n",
    "이러한 방식 덕에 폼이 더 강력하게, 특히나 다중 상속을 이요할 때 강력한 효과를 발휘한다고 함.\n",
    "\n",
    "예제 11.5 - 뷰 소스\n",
    "\n",
    "https://github.com/twoscoops/two-scoops-of-django-1.8/blob/master/code/chapter_11_example_5.py"
   ]
  },
  {
   "cell_type": "markdown",
   "metadata": {},
   "source": [
    "### django-braces의 모델폼 믹스인\n",
    "\n",
    "폼에 request.user 객체를 추가하는 것은 django-braces에서 빈번하게 이루어진다. \n",
    "하지만 request.user 객체가 아닌 다른 것을 추가해햐 할 경우에 대비하여 어떻게 추가하고 작동하는지 알아둘 필요가 있다.\n",
    "\n",
    "http://www.2scoops.co/django-braces-user-form-kwargs-mixin\n",
    "\n",
    "http://www.2scoops.co/django-braces-user-kwarg-model-form-mixin\n",
    "\n",
    "https://docs.djangoproject.com/el/1.10/ref/class-based-views/generic-editing/#updateview"
   ]
  },
  {
   "cell_type": "markdown",
   "metadata": {},
   "source": [
    "## 11.5 폼이 유효성을 검사하는 방법 알아두기\n",
    "\n",
    "form.is_valid()가 호출될 때 처리되는 일\n",
    "\n",
    "1) 폼이 데이터를 받으면 form.is_valid()는 form.full_clean() 메서드를 호출한다.\n",
    "\n",
    "2) form.full_clean() 은 폼 필드들과 각각의 필드 유효성을 하나하나 검사하면서 다음과 같은 과정을 수행한다.\n",
    "\n",
    "    a) 필드에 들어온 데이터에 대해 to_python()을 이용하여 파이썬 형식으로 변환하거나 변환할 때 문제가 생기면 ValidationError를 일으킨다.\n",
    "    \n",
    "    b) 커스텀 유효성 검사기(validator)를 포함한 각 필드에 특별한 유효성을 검사한다. 문제가 있을 때 ValidationError를 일으킨다.\n",
    "    \n",
    "    c) 폼에 clean_<field>() 메서드가 있으면 이를 실행한다.\n",
    "    \n",
    "3) form.full_clean()이 form.clean() 메서드를 실행한다.\n",
    "\n",
    "4) ModelForm 인스턴스의 경우 form.post_clean() 이 다음 작업을 한다.\n",
    "\n",
    "    a) form.is_valid()가 True나 False로 설정되어 있는 것과 관계없이 ModelForm의 데이터를 모델 인스턴스로 설정한다.\n",
    "    \n",
    "    b) 모델의 clean() 메서드를 호출한다. 참고로 ORM을 통해 모델 인스턴스를 저장할 때는 모델의 clean() 메서드가 호출되지는 않는다.\n",
    "    "
   ]
  },
  {
   "cell_type": "markdown",
   "metadata": {},
   "source": [
    "### 11.5.1 모델폼 데이터는 폼에 먼저 저장된 이후 모델 인스턴스에 저장된다.\n",
    "\n",
    "ModelForm에서 폼 데이터는 두 가지 각기 다른 단계를 통해 저장된다.\n",
    "\n",
    "1) 첫 번째로 폼 데이터가 폼 인스턴스에 저장된다.\n",
    "\n",
    "2) 그 다음에 폼 데이터가 모델 인스턴스에 저장된다.\n",
    "\n",
    "form.save() 메서드에 의해 적용되기 전까지는 ModelForm이 모델 인스턴스로 저장되지 않기 때문에 이렇게 분리된 과정 자체를 장점으로 이용할 수 있다.\n",
    "\n",
    "예를 들면 폼 입력 시도 실패에 대해 좀 더 자세한 사항이 필요할 때, 사용자가 입력한 폼의 데이터와 모델 인스턴스의 변화를 둘 다 저장할 수 있다.\n",
    "\n",
    "예제 11.6 - Model 소스\n",
    "\n",
    "https://github.com/twoscoops/two-scoops-of-django-1.8/blob/master/code/chapter_11_example_6.py\n",
    "\n",
    "예제 11.7 - View 소스\n",
    "\n",
    "https://github.com/twoscoops/two-scoops-of-django-1.8/blob/master/code/chapter_11_example_7.py\n",
    "\n",
    "form_invalid()는 데이터가 적합하지 않아서 유효성 검사에 실패한 후에 호출됨.\n",
    "\n",
    "앞의 예제에서 form_invalid()가 호출될 때 유효성 검사에 통과한 폼 데이터와 데이터베이스에 저장될 최종 데이터 둘 다 ModelFormFailureHistory 레코드에 저장된다."
   ]
  },
  {
   "cell_type": "markdown",
   "metadata": {},
   "source": [
    "## 11.6 Form.add_error()를 이용하여 폼에 에러 추가하기\n",
    "\n",
    "장고 1.7에서 Form.add_error() 메서드를 사용하여 Form.clean()을 더 간소화할 수 있게 되었다.\n",
    "\n",
    "예제 11.8\n",
    "\n",
    "https://github.com/twoscoops/two-scoops-of-django-1.8/blob/master/code/chapter_11_example_8.py"
   ]
  },
  {
   "cell_type": "markdown",
   "metadata": {},
   "source": [
    "### 11.6.1 유용한 폼 메서드들\n",
    "\n",
    "유용한 여러 종류의 폼 유효성 검사 메서드들이 있다.\n",
    "\n",
    "http://www.2scoops.co/1.8-form.errors.as_data\n",
    "\n",
    "http://www.2scoops.co/1.8-form.errors.as_json\n",
    "\n",
    "http://www.2scoops.co/1.8-form.has_error\n",
    "\n",
    "http://www.2scoops.co/1.8-form.non_field_errors\n"
   ]
  },
  {
   "cell_type": "markdown",
   "metadata": {},
   "source": [
    "### 11.9 요약\n",
    "\n",
    "일단 폼을 작성하기 시작했다면 코드의 명료성과 테스트를 염두에 두기 바란다.\n",
    "\n",
    "폼은 장고 프로젝트에서 주된 유효성 검사 도구이며 불의의 데이터 충돌에 대한 중요한 방어 수단이기도 하다."
   ]
  },
  {
   "cell_type": "code",
   "execution_count": null,
   "metadata": {
    "collapsed": true
   },
   "outputs": [],
   "source": []
  }
 ],
 "metadata": {
  "kernelspec": {
   "display_name": "Python [python3]",
   "language": "python",
   "name": "Python [python3]"
  },
  "language_info": {
   "codemirror_mode": {
    "name": "ipython",
    "version": 3
   },
   "file_extension": ".py",
   "mimetype": "text/x-python",
   "name": "python",
   "nbconvert_exporter": "python",
   "pygments_lexer": "ipython3",
   "version": "3.5.2"
  }
 },
 "nbformat": 4,
 "nbformat_minor": 0
}
